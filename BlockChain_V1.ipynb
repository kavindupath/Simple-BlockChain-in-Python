{
 "cells": [
  {
   "cell_type": "code",
   "execution_count": 4,
   "metadata": {},
   "outputs": [],
   "source": [
    "import hashlib\n",
    "# Blocks are connected using a hash\n",
    "# hash= transaction + hash of the previous block"
   ]
  },
  {
   "cell_type": "code",
   "execution_count": 5,
   "metadata": {},
   "outputs": [],
   "source": [
    "class Block:\n",
    "    def __init__(self,previous_hash,transaction):\n",
    "        self.transaction=transaction\n",
    "        self.previous_hash=previous_hash\n",
    "        string_to_hash=\"\".join(transaction)+previous_hash\n",
    "        self.block_hash=hashlib.sha256(string_to_hash.encode()).hexdigest()\n"
   ]
  },
  {
   "cell_type": "code",
   "execution_count": 6,
   "metadata": {},
   "outputs": [
    {
     "name": "stdout",
     "output_type": "stream",
     "text": [
      "Blcok hash of Genises Block:\n",
      "8ad413e01ceb79ca3e7104869752faad168bbecb610e1ca2f3e6b028075851ac\n",
      "Blcok hash of Second Block:\n",
      "c73f916261cdc704f4ed4e0a59c7eabf3e22ff75f547a3ea7048a302a2fd7388\n",
      "Blcok hash of Third Block:\n",
      "82220632f9f4a541c1b71e558b37506a90dc5243d2f2ac1f38739a57c54012c3\n"
     ]
    }
   ],
   "source": [
    "# Here we create 3 Blocks\n",
    "# Genesis block is the first block in the blockchain     \n",
    "\n",
    "genesis_block=Block(\"0000000\",[\"kavindu sent 5 BTC to kasun\"]) # Here 00000 is just a number because we dont' have a previous block\n",
    "print(\"Blcok hash of Genises Block:\")\n",
    "print(genesis_block.block_hash)\n",
    "\n",
    "second_block= Block(genesis_block.block_hash, [\"kasun sent 5 BTC to Indunil\",\n",
    "                                               \"Lakshan sent 5 BTC to layya\"])\n",
    "print(\"Blcok hash of Second Block:\")\n",
    "print(second_block.block_hash)\n",
    "\n",
    "\n",
    "Third_block= Block(genesis_block.block_hash, [\"Kavindu sent 9 BTC to Indunil\",\n",
    "                                               \"Kavinda sent 5 BTC to Dushan\"])\n",
    "print(\"Blcok hash of Third Block:\")\n",
    "print(Third_block.block_hash)"
   ]
  },
  {
   "cell_type": "code",
   "execution_count": null,
   "metadata": {},
   "outputs": [],
   "source": []
  },
  {
   "cell_type": "code",
   "execution_count": null,
   "metadata": {},
   "outputs": [],
   "source": []
  }
 ],
 "metadata": {
  "kernelspec": {
   "display_name": "Python 3",
   "language": "python",
   "name": "python3"
  },
  "language_info": {
   "codemirror_mode": {
    "name": "ipython",
    "version": 3
   },
   "file_extension": ".py",
   "mimetype": "text/x-python",
   "name": "python",
   "nbconvert_exporter": "python",
   "pygments_lexer": "ipython3",
   "version": "3.6.7"
  },
  "toc": {
   "base_numbering": 1,
   "nav_menu": {},
   "number_sections": true,
   "sideBar": true,
   "skip_h1_title": false,
   "title_cell": "Table of Contents",
   "title_sidebar": "Contents",
   "toc_cell": false,
   "toc_position": {},
   "toc_section_display": true,
   "toc_window_display": false
  }
 },
 "nbformat": 4,
 "nbformat_minor": 2
}
